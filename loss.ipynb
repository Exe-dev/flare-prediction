{
 "metadata": {
  "language_info": {
   "codemirror_mode": {
    "name": "ipython",
    "version": 3
   },
   "file_extension": ".py",
   "mimetype": "text/x-python",
   "name": "python",
   "nbconvert_exporter": "python",
   "pygments_lexer": "ipython3",
   "version": 3
  },
  "orig_nbformat": 2
 },
 "nbformat": 4,
 "nbformat_minor": 2,
 "cells": [
  {
   "cell_type": "code",
   "execution_count": null,
   "metadata": {},
   "outputs": [],
   "source": [
    "def TSS(y_true, y_pred):\n",
    "    tf.where(y_pred>=0.5, y_pred, 1)\n",
    "    tf.where(y_pred<0.5, y_pred, 0)\n",
    "    tp = K.sum(y_true*y_pred)\n",
    "    tn = K.sum((1-y_true)*(1-y_pred))\n",
    "    fp = K.sum((1-y_true)*(y_pred))\n",
    "    fn = K.sum(y_true*(1-y_pred))\n",
    "    return 1 - ((tp/(tp+fn)) - (fp/(tn+fp)))"
   ]
  }
 ]
}